{
  "cells": [
    {
      "cell_type": "markdown",
      "metadata": {
        "id": "view-in-github",
        "colab_type": "text"
      },
      "source": [
        "<a href=\"https://colab.research.google.com/github/JonathanJuradoS/TecnicasBusqueda/blob/main/EspacioPractico_Laberinto10x10.ipynb\" target=\"_parent\"><img src=\"https://colab.research.google.com/assets/colab-badge.svg\" alt=\"Open In Colab\"/></a>"
      ]
    },
    {
      "cell_type": "markdown",
      "id": "010c359a",
      "metadata": {
        "id": "010c359a"
      },
      "source": [
        "# 🧪 Espacio Práctico – Laberinto 10x10\n",
        "\n",
        "## Objetivo:\n",
        "Un robot ubicado en la celda (0,0) debe llegar a la salida en la celda (9,9), evitando obstáculos.\n",
        "\n",
        "### Actividades:\n",
        "Implementar los siguientes algoritmos:\n",
        "1. Búsqueda en anchura (BFS)\n",
        "2. Búsqueda en profundidad (DFS)\n",
        "3. Algoritmo Hill Climbing\n",
        "4. Algoritmo A*\n",
        "\n",
        "Mostrar el camino encontrado sobre la visualización del laberinto.\n",
        "\n",
        "🔒 Obstáculos representados por 1, espacios libres por 0."
      ]
    },
    {
      "cell_type": "code",
      "execution_count": null,
      "id": "69461686",
      "metadata": {
        "id": "69461686"
      },
      "outputs": [],
      "source": [
        "# Laberinto 10x10 con obstáculos\n",
        "maze = [\n",
        "    [0, 1, 0, 0, 0, 0, 0, 1, 0, 0],\n",
        "    [0, 1, 0, 1, 1, 1, 0, 1, 0, 1],\n",
        "    [0, 0, 0, 0, 0, 1, 0, 0, 0, 1],\n",
        "    [1, 1, 1, 1, 0, 1, 1, 1, 0, 0],\n",
        "    [0, 0, 0, 1, 0, 0, 0, 1, 1, 0],\n",
        "    [0, 1, 0, 0, 1, 1, 0, 0, 1, 0],\n",
        "    [0, 1, 1, 0, 0, 0, 0, 1, 0, 0],\n",
        "    [0, 0, 0, 1, 1, 1, 0, 1, 0, 1],\n",
        "    [1, 1, 0, 0, 0, 0, 0, 0, 0, 0],\n",
        "    [0, 0, 0, 1, 1, 1, 1, 1, 1, 0]\n",
        "]\n",
        "\n",
        "start = (0, 0)\n",
        "goal = (9, 9)"
      ]
    },
    {
      "cell_type": "code",
      "execution_count": null,
      "id": "003c4e52",
      "metadata": {
        "id": "003c4e52"
      },
      "outputs": [],
      "source": [
        "\n",
        "# Visualización del laberinto\n",
        "import matplotlib.pyplot as plt\n",
        "import numpy as np\n",
        "\n",
        "def draw_maze(maze, start, goal):\n",
        "    rows, cols = len(maze), len(maze[0])\n",
        "    fig, ax = plt.subplots(figsize=(8, 8))\n",
        "    ax.set_xlim(0, cols)\n",
        "    ax.set_ylim(0, rows)\n",
        "    ax.set_xticks(np.arange(0, cols + 1, 1))\n",
        "    ax.set_yticks(np.arange(0, rows + 1, 1))\n",
        "    ax.grid(True)\n",
        "    ax.set_title('Laberinto 10x10 – Robot (A) hacia la Salida (S)', fontsize=14)\n",
        "\n",
        "    for i in range(rows):\n",
        "        for j in range(cols):\n",
        "            if maze[i][j] == 1:\n",
        "                ax.add_patch(plt.Rectangle((j, rows - i - 1), 1, 1, color='black'))\n",
        "            else:\n",
        "                ax.add_patch(plt.Rectangle((j, rows - i - 1), 1, 1, edgecolor='gray', facecolor='white'))\n",
        "\n",
        "    si, sj = start\n",
        "    gi, gj = goal\n",
        "    ax.add_patch(plt.Rectangle((sj, rows - si - 1), 1, 1, color='blue'))\n",
        "    ax.add_patch(plt.Rectangle((gj, rows - gi - 1), 1, 1, color='orange'))\n",
        "\n",
        "    ax.text(sj + 0.25, rows - si - 0.75, 'A', fontsize=14, color='white')\n",
        "    ax.text(gj + 0.25, rows - gi - 0.75, 'S', fontsize=14, color='black')\n",
        "\n",
        "    plt.tight_layout()\n",
        "    plt.show()\n"
      ]
    },
    {
      "cell_type": "code",
      "execution_count": null,
      "id": "cff758b2",
      "metadata": {
        "id": "cff758b2"
      },
      "outputs": [],
      "source": [
        "# Dibujar el laberinto con inicio y fin\n",
        "draw_maze(maze, start, goal)"
      ]
    },
    {
      "cell_type": "markdown",
      "id": "e11af9ca",
      "metadata": {
        "id": "e11af9ca"
      },
      "source": [
        "## ✍️ Aquí puedes empezar a desarrollar tus algoritmos:\n",
        "\n",
        "### 🔄 Búsqueda en Anchura (BFS)"
      ]
    },
    {
      "cell_type": "code",
      "execution_count": null,
      "id": "6b83e12a",
      "metadata": {
        "id": "6b83e12a"
      },
      "outputs": [],
      "source": [
        "# Implementa aquí tu algoritmo BFS"
      ]
    },
    {
      "cell_type": "markdown",
      "id": "0e686036",
      "metadata": {
        "id": "0e686036"
      },
      "source": [
        "### 🔁 Búsqueda en Profundidad (DFS)"
      ]
    },
    {
      "cell_type": "code",
      "execution_count": null,
      "id": "de2af807",
      "metadata": {
        "id": "de2af807"
      },
      "outputs": [],
      "source": [
        "# Implementa aquí tu algoritmo DFS"
      ]
    },
    {
      "cell_type": "markdown",
      "id": "c1508455",
      "metadata": {
        "id": "c1508455"
      },
      "source": [
        "### ⛰️ Algoritmo Hill Climbing"
      ]
    },
    {
      "cell_type": "code",
      "execution_count": null,
      "id": "130234b2",
      "metadata": {
        "id": "130234b2"
      },
      "outputs": [],
      "source": [
        "# Implementa aquí tu algoritmo Hill Climbing"
      ]
    },
    {
      "cell_type": "markdown",
      "id": "5d272d3d",
      "metadata": {
        "id": "5d272d3d"
      },
      "source": [
        "### ⭐ Algoritmo A*"
      ]
    },
    {
      "cell_type": "code",
      "execution_count": null,
      "id": "5d675e34",
      "metadata": {
        "id": "5d675e34"
      },
      "outputs": [],
      "source": [
        "# Implementa aquí tu algoritmo A*"
      ]
    }
  ],
  "metadata": {
    "colab": {
      "provenance": [],
      "include_colab_link": true
    }
  },
  "nbformat": 4,
  "nbformat_minor": 5
}