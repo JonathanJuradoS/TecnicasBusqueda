{
  "cells": [
    {
      "cell_type": "markdown",
      "metadata": {
        "id": "view-in-github",
        "colab_type": "text"
      },
      "source": [
        "<a href=\"https://colab.research.google.com/github/JonathanJuradoS/TecnicasBusqueda/blob/main/Evacuacion_Laberinto_BFS_DFS.ipynb\" target=\"_parent\"><img src=\"https://colab.research.google.com/assets/colab-badge.svg\" alt=\"Open In Colab\"/></a>"
      ]
    },
    {
      "cell_type": "markdown",
      "id": "964bf51a",
      "metadata": {
        "id": "964bf51a"
      },
      "source": [
        "\n",
        "# 🚪 Espacio Práctico: Ruta de Evacuación en un Edificio\n",
        "\n",
        "Este notebook permite simular una situación de evacuación en un edificio, donde un agente debe encontrar la mejor ruta desde su posición actual hasta la salida de emergencia utilizando algoritmos de búsqueda **BFS** y **DFS**.\n"
      ]
    },
    {
      "cell_type": "markdown",
      "id": "09e02921",
      "metadata": {
        "id": "09e02921"
      },
      "source": [
        "\n",
        "## 🏢 Representación del Laberinto\n",
        "\n",
        "El edificio es una matriz 5x6 donde:\n",
        "- `' '` representa una celda libre.\n",
        "- `'#'` representa una pared.\n",
        "- `'S'` representa la salida de emergencia.\n"
      ]
    },
    {
      "cell_type": "code",
      "execution_count": null,
      "id": "0aab01d7",
      "metadata": {
        "id": "0aab01d7"
      },
      "outputs": [],
      "source": [
        "\n",
        "laberinto = [\n",
        "    [' ', ' ', ' ', '#', ' ', 'S'],\n",
        "    ['#', '#', ' ', '#', ' ', '#'],\n",
        "    [' ', ' ', ' ', ' ', ' ', ' '],\n",
        "    [' ', '#', '#', '#', '#', ' '],\n",
        "    [' ', ' ', ' ', ' ', ' ', ' '],\n",
        "]\n",
        "\n",
        "movs = [(-1,0), (1,0), (0,-1), (0,1)]\n",
        "\n",
        "def vecinos(i, j):\n",
        "    resultado = []\n",
        "    for dx, dy in movs:\n",
        "        x, y = i+dx, j+dy\n",
        "        if 0 <= x < len(laberinto) and 0 <= y < len(laberinto[0]):\n",
        "            if laberinto[x][y] != '#':\n",
        "                resultado.append((x, y))\n",
        "    return resultado\n",
        "\n",
        "def encontrar_salida():\n",
        "    for i in range(len(laberinto)):\n",
        "        for j in range(len(laberinto[0])):\n",
        "            if laberinto[i][j] == 'S':\n",
        "                return (i, j)\n"
      ]
    },
    {
      "cell_type": "code",
      "execution_count": null,
      "id": "9b379c9f",
      "metadata": {
        "id": "9b379c9f"
      },
      "outputs": [],
      "source": [
        "\n",
        "from collections import deque\n",
        "\n",
        "def bfs(inicio, objetivo):\n",
        "    visitados = set()\n",
        "    cola = deque([(inicio, [])])\n",
        "    while cola:\n",
        "        actual, camino = cola.popleft()\n",
        "        if actual in visitados:\n",
        "            continue\n",
        "        visitados.add(actual)\n",
        "        if actual == objetivo:\n",
        "            return camino + [actual]\n",
        "        for v in vecinos(*actual):\n",
        "            cola.append((v, camino + [actual]))\n",
        "    return None\n",
        "\n",
        "def dfs(inicio, objetivo, profundidad_max=50):\n",
        "    visitados = set()\n",
        "    pila = [(inicio, [])]\n",
        "    while pila:\n",
        "        actual, camino = pila.pop()\n",
        "        if actual in visitados:\n",
        "            continue\n",
        "        visitados.add(actual)\n",
        "        if actual == objetivo:\n",
        "            return camino + [actual]\n",
        "        if len(camino) >= profundidad_max:\n",
        "            continue\n",
        "        for v in vecinos(*actual):\n",
        "            pila.append((v, camino + [actual]))\n",
        "    return None\n"
      ]
    },
    {
      "cell_type": "code",
      "execution_count": null,
      "id": "8d2387a7",
      "metadata": {
        "id": "8d2387a7",
        "outputId": "45e8f186-45f9-4ecb-f305-8276f538e7dd"
      },
      "outputs": [
        {
          "name": "stdout",
          "output_type": "stream",
          "text": [
            "📌 Ruta BFS:\n",
            "[(4, 0), (3, 0), (2, 0), (2, 1), (2, 2), (2, 3), (2, 4), (1, 4), (0, 4), (0, 5)]\n",
            "\n",
            "📌 Ruta DFS:\n",
            "[(4, 0), (4, 1), (4, 2), (4, 3), (4, 4), (4, 5), (3, 5), (2, 5), (2, 4), (1, 4), (0, 4), (0, 5)]\n"
          ]
        }
      ],
      "source": [
        "\n",
        "inicio = (4, 0)\n",
        "objetivo = encontrar_salida()\n",
        "\n",
        "camino_bfs = bfs(inicio, objetivo)\n",
        "camino_dfs = dfs(inicio, objetivo)\n",
        "\n",
        "print(\"📌 Ruta BFS:\")\n",
        "print(camino_bfs)\n",
        "\n",
        "print(\"\\n📌 Ruta DFS:\")\n",
        "print(camino_dfs)\n"
      ]
    },
    {
      "cell_type": "code",
      "execution_count": null,
      "id": "fc394845",
      "metadata": {
        "id": "fc394845",
        "outputId": "e93c3751-8e87-43d1-f8f3-f6e192d2adca"
      },
      "outputs": [
        {
          "data": {
            "image/png": "[encoded data removed]",
            "text/plain": [
              "<Figure size 800x500 with 1 Axes>"
            ]
          },
          "metadata": {},
          "output_type": "display_data"
        },
        {
          "data": {
            "image/png": "[encoded data removed]",
            "text/plain": [
              "<Figure size 800x500 with 1 Axes>"
            ]
          },
          "metadata": {},
          "output_type": "display_data"
        }
      ],
      "source": [
        "\n",
        "# 🧭 Visualización del recorrido\n",
        "\n",
        "import matplotlib.pyplot as plt\n",
        "import matplotlib.patches as patches\n",
        "\n",
        "def dibujar_laberinto(camino, titulo):\n",
        "    fig, ax = plt.subplots(figsize=(8,5))\n",
        "    for i in range(len(laberinto)):\n",
        "        for j in range(len(laberinto[0])):\n",
        "            val = laberinto[i][j]\n",
        "            color = \"white\"\n",
        "            if val == '#':\n",
        "                color = \"black\"\n",
        "            elif val == 'S':\n",
        "                color = \"lightgreen\"\n",
        "            if (i,j) in camino:\n",
        "                idx = camino.index((i,j))\n",
        "                color = \"deepskyblue\" if idx < len(camino)-1 else \"limegreen\"\n",
        "            rect = patches.Rectangle((j, len(laberinto)-1-i), 1, 1, facecolor=color, edgecolor='gray')\n",
        "            ax.add_patch(rect)\n",
        "            if val not in [' ', '#']:\n",
        "                ax.text(j+0.5, len(laberinto)-1-i+0.5, val, ha='center', va='center', fontsize=12)\n",
        "    ax.set_xlim(0, len(laberinto[0]))\n",
        "    ax.set_ylim(0, len(laberinto))\n",
        "    ax.set_xticks([])\n",
        "    ax.set_yticks([])\n",
        "    ax.set_title(titulo)\n",
        "    plt.gca().set_aspect('equal')\n",
        "    plt.show()\n",
        "\n",
        "dibujar_laberinto(camino_bfs, \"Ruta BFS - Evacuación\")\n",
        "dibujar_laberinto(camino_dfs, \"Ruta DFS - Evacuación\")\n"
      ]
    },
    {
      "cell_type": "markdown",
      "id": "f6a27282",
      "metadata": {
        "id": "f6a27282"
      },
      "source": [
        "\n",
        "## ✅ Conclusiones\n",
        "\n",
        "- El problema de encontrar una ruta de evacuación se puede modelar como un **espacio de estados**.\n",
        "- BFS garantiza el camino más corto, pero puede ser más lento en laberintos grandes.\n",
        "- DFS puede ser más rápido en profundidad, pero no garantiza el camino óptimo.\n",
        "- Visualizar las rutas ayuda a entender cómo cada algoritmo recorre el espacio de búsqueda.\n"
      ]
    }
  ],
  "metadata": {
    "kernelspec": {
      "display_name": "Dev_003",
      "language": "python",
      "name": "python3"
    },
    "language_info": {
      "codemirror_mode": {
        "name": "ipython",
        "version": 3
      },
      "file_extension": ".py",
      "mimetype": "text/x-python",
      "name": "python",
      "nbconvert_exporter": "python",
      "pygments_lexer": "ipython3",
      "version": "3.9.21"
    },
    "colab": {
      "provenance": [],
      "include_colab_link": true
    }
  },
  "nbformat": 4,
  "nbformat_minor": 5
}