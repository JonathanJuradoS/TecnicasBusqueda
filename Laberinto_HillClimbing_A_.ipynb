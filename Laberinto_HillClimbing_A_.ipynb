{
  "cells": [
    {
      "cell_type": "markdown",
      "metadata": {
        "id": "view-in-github",
        "colab_type": "text"
      },
      "source": [
        "<a href=\"https://colab.research.google.com/github/JonathanJuradoS/TecnicasBusqueda/blob/main/Laberinto_HillClimbing_A_.ipynb\" target=\"_parent\"><img src=\"https://colab.research.google.com/assets/colab-badge.svg\" alt=\"Open In Colab\"/></a>"
      ]
    },
    {
      "cell_type": "markdown",
      "id": "5606ace2",
      "metadata": {
        "id": "5606ace2"
      },
      "source": [
        "# Laberinto Inteligente 5x5\n",
        "\n",
        "Este notebook implementa dos algoritmos de búsqueda: **Hill Climbing** y **A\\*** sobre un laberinto 5x5."
      ]
    },
    {
      "cell_type": "code",
      "execution_count": 1,
      "id": "8e2a71d4",
      "metadata": {
        "id": "8e2a71d4"
      },
      "outputs": [],
      "source": [
        "import matplotlib.pyplot as plt\n",
        "import networkx as nx\n",
        "import numpy as np\n",
        "\n",
        "maze = [\n",
        "    [0, 0, 0, 1, 0],\n",
        "    [1, 1, 0, 1, 0],\n",
        "    [0, 0, 0, 0, 0],\n",
        "    [0, 1, 1, 1, 0],\n",
        "    [0, 0, 0, 1, 0]\n",
        "]\n",
        "\n",
        "start = (0, 0)\n",
        "goal = (4, 4)\n",
        "rows, cols = len(maze), len(maze[0])"
      ]
    },
    {
      "cell_type": "code",
      "execution_count": 2,
      "id": "4f1a535c",
      "metadata": {
        "id": "4f1a535c"
      },
      "outputs": [],
      "source": [
        "def heuristic(a, b):\n",
        "    return abs(a[0] - b[0]) + abs(a[1] - b[1])"
      ]
    },
    {
      "cell_type": "code",
      "execution_count": 3,
      "id": "de807aa4",
      "metadata": {
        "id": "de807aa4"
      },
      "outputs": [],
      "source": [
        "def maze_to_graph(maze):\n",
        "    G = nx.Graph()\n",
        "    for i in range(rows):\n",
        "        for j in range(cols):\n",
        "            if maze[i][j] == 0:\n",
        "                for dx, dy in [(-1,0), (1,0), (0,-1), (0,1)]:\n",
        "                    ni, nj = i + dx, j + dy\n",
        "                    if 0 <= ni < rows and 0 <= nj < cols and maze[ni][nj] == 0:\n",
        "                        G.add_edge((i, j), (ni, nj))\n",
        "    return G"
      ]
    },
    {
      "cell_type": "code",
      "execution_count": 4,
      "id": "a772c249",
      "metadata": {
        "id": "a772c249"
      },
      "outputs": [],
      "source": [
        "def astar(maze, start, goal):\n",
        "    G = maze_to_graph(maze)\n",
        "    open_set = {start}\n",
        "    came_from = {}\n",
        "    g_score = {node: float('inf') for node in G.nodes}\n",
        "    g_score[start] = 0\n",
        "    f_score = {node: float('inf') for node in G.nodes}\n",
        "    f_score[start] = heuristic(start, goal)\n",
        "\n",
        "    while open_set:\n",
        "        current = min(open_set, key=lambda x: f_score[x])\n",
        "        if current == goal:\n",
        "            path = []\n",
        "            while current in came_from:\n",
        "                path.append(current)\n",
        "                current = came_from[current]\n",
        "            path.append(start)\n",
        "            return path[::-1]\n",
        "        open_set.remove(current)\n",
        "        for neighbor in G.neighbors(current):\n",
        "            tentative_g_score = g_score[current] + 1\n",
        "            if tentative_g_score < g_score[neighbor]:\n",
        "                came_from[neighbor] = current\n",
        "                g_score[neighbor] = tentative_g_score\n",
        "                f_score[neighbor] = g_score[neighbor] + heuristic(neighbor, goal)\n",
        "                open_set.add(neighbor)\n",
        "    return []"
      ]
    },
    {
      "cell_type": "code",
      "execution_count": 5,
      "id": "ec655735",
      "metadata": {
        "id": "ec655735"
      },
      "outputs": [],
      "source": [
        "path_astar = astar(maze, start, goal)"
      ]
    },
    {
      "cell_type": "code",
      "execution_count": 6,
      "id": "9bd9e2c1",
      "metadata": {
        "id": "9bd9e2c1"
      },
      "outputs": [],
      "source": [
        "def plot_maze_with_path(maze, path):\n",
        "    fig, ax = plt.subplots(figsize=(6, 6))\n",
        "    ax.set_xlim(0, cols)\n",
        "    ax.set_ylim(0, rows)\n",
        "    ax.set_xticks(np.arange(0, cols + 1, 1))\n",
        "    ax.set_yticks(np.arange(0, rows + 1, 1))\n",
        "    ax.grid(True)\n",
        "\n",
        "    for i in range(rows):\n",
        "        for j in range(cols):\n",
        "            if maze[i][j] == 1:\n",
        "                ax.add_patch(plt.Rectangle((j, rows - i - 1), 1, 1, color='black'))\n",
        "            else:\n",
        "                ax.add_patch(plt.Rectangle((j, rows - i - 1), 1, 1, edgecolor='gray', facecolor='white'))\n",
        "\n",
        "    for (i, j) in path:\n",
        "        ax.add_patch(plt.Rectangle((j, rows - i - 1), 1, 1, color='lightblue'))\n",
        "\n",
        "    si, sj = start\n",
        "    gi, gj = goal\n",
        "    ax.add_patch(plt.Rectangle((sj, rows - si - 1), 1, 1, color='green'))\n",
        "    ax.add_patch(plt.Rectangle((gj, rows - gi - 1), 1, 1, color='red'))\n",
        "    ax.set_title(\"Camino Encontrado con A*\")\n",
        "    plt.show()"
      ]
    },
    {
      "cell_type": "markdown",
      "id": "c1360369",
      "metadata": {
        "id": "c1360369"
      },
      "source": [
        "### 🧠 Conclusión tras A*:\n",
        "- El algoritmo A* encontró una **ruta óptima** desde el inicio hasta el objetivo.\n",
        "- Combina la eficiencia del costo real y la heurística para tomar decisiones informadas.\n",
        "- Ideal cuando se requiere **precisión y robustez** en entornos complejos."
      ]
    },
    {
      "cell_type": "code",
      "execution_count": 7,
      "id": "e7ea102a",
      "metadata": {
        "colab": {
          "base_uri": "https://localhost:8080/",
          "height": 545
        },
        "id": "e7ea102a",
        "outputId": "47d4de54-581b-40d0-f4c8-7e431d03cdaa"
      },
      "outputs": [
        {
          "output_type": "display_data",
          "data": {
            "text/plain": [
              "<Figure size 600x600 with 1 Axes>"
            ],
            "image/png": "[encoded data removed]"
          },
          "metadata": {}
        }
      ],
      "source": [
        "plot_maze_with_path(maze, path_astar)"
      ]
    },
    {
      "cell_type": "markdown",
      "id": "d4c1ad72",
      "metadata": {
        "id": "d4c1ad72"
      },
      "source": [
        "## Algoritmo Hill Climbing\n",
        "\n",
        "A continuación se implementa el algoritmo **Hill Climbing**, que avanza solo si encuentra vecinos con mejor heurística. Puede quedar atrapado en óptimos locales."
      ]
    },
    {
      "cell_type": "code",
      "execution_count": 8,
      "id": "ef82636e",
      "metadata": {
        "id": "ef82636e"
      },
      "outputs": [],
      "source": [
        "\n",
        "def hill_climbing(maze, start, goal):\n",
        "    current = start\n",
        "    path = [current]\n",
        "    visited = set()\n",
        "    visited.add(current)\n",
        "\n",
        "    while current != goal:\n",
        "        neighbors = []\n",
        "        for dx, dy in [(-1,0), (1,0), (0,-1), (0,1)]:\n",
        "            ni, nj = current[0] + dx, current[1] + dy\n",
        "            if 0 <= ni < rows and 0 <= nj < cols and maze[ni][nj] == 0:\n",
        "                neighbor = (ni, nj)\n",
        "                if neighbor not in visited:\n",
        "                    neighbors.append(neighbor)\n",
        "\n",
        "        if not neighbors:\n",
        "            return path  # no progreso posible\n",
        "\n",
        "        neighbors.sort(key=lambda x: heuristic(x, goal))\n",
        "        best = neighbors[0]\n",
        "\n",
        "        if heuristic(best, goal) >= heuristic(current, goal):\n",
        "            return path  # no mejora, se detiene\n",
        "\n",
        "        current = best\n",
        "        visited.add(current)\n",
        "        path.append(current)\n",
        "\n",
        "    return path\n",
        "\n",
        "path_hill = hill_climbing(maze, start, goal)\n"
      ]
    },
    {
      "cell_type": "code",
      "execution_count": 9,
      "id": "9e2bf4cc",
      "metadata": {
        "colab": {
          "base_uri": "https://localhost:8080/",
          "height": 545
        },
        "id": "9e2bf4cc",
        "outputId": "0367689f-211c-4486-fb36-564a472bf2f3"
      },
      "outputs": [
        {
          "output_type": "display_data",
          "data": {
            "text/plain": [
              "<Figure size 600x600 with 1 Axes>"
            ],
            "image/png": "[encoded data removed]"
          },
          "metadata": {}
        }
      ],
      "source": [
        "\n",
        "plot_maze_with_path(maze, path_hill)\n"
      ]
    },
    {
      "cell_type": "markdown",
      "id": "78171dc1",
      "metadata": {
        "id": "78171dc1"
      },
      "source": [
        "### 🧠 Conclusión tras Hill Climbing:\n",
        "- El algoritmo avanza de forma **greedy**, eligiendo siempre el vecino con mejor heurística.\n",
        "- En este caso, logró avanzar pero **no garantiza llegar al objetivo**.\n",
        "- Es rápido, pero **puede estancarse en un callejón sin salida o un óptimo local**."
      ]
    },
    {
      "cell_type": "markdown",
      "id": "003a3878",
      "metadata": {
        "id": "003a3878"
      },
      "source": [
        "\n",
        "## 📘 Explicación de Algoritmos y Conclusiones\n",
        "\n",
        "### 🔷 1. Algoritmo A\\*\n",
        "\n",
        "**¿Qué es?**  \n",
        "Es un algoritmo de búsqueda informada que encuentra el camino más corto desde un estado inicial a un estado meta. Utiliza:\n",
        "\n",
        "\\[\n",
        "f(n) = g(n) + h(n)\n",
        "\\]\n",
        "\n",
        "- `g(n)`: Costo real desde el inicio hasta el nodo actual.\n",
        "- `h(n)`: Estimación heurística del costo restante hasta la meta.\n",
        "\n",
        "**Ventajas:**\n",
        "- Encuentra rutas óptimas.\n",
        "- Completo: encuentra solución si existe.\n",
        "- Usa historial y predicción futura.\n",
        "\n",
        "**Desventajas:**\n",
        "- Usa más memoria.\n",
        "- Depende de la calidad de la heurística.\n",
        "\n",
        "---\n",
        "\n",
        "### 🔷 2. Algoritmo Hill Climbing\n",
        "\n",
        "**¿Qué es?**  \n",
        "Algoritmo de búsqueda heurística que siempre elige el vecino con mejor `h(n)`, avanzando solo si mejora.\n",
        "\n",
        "**Ventajas:**\n",
        "- Rápido y eficiente.\n",
        "- Bajo consumo de recursos.\n",
        "\n",
        "**Desventajas:**\n",
        "- Puede quedarse en óptimos locales.\n",
        "- No garantiza llegar al objetivo.\n",
        "- No tiene retroceso (no backtracking).\n",
        "\n",
        "---\n",
        "\n",
        "## 🧪 Comparación de Resultados\n",
        "\n",
        "| Métrica               | A\\*                      | Hill Climbing              |\n",
        "|------------------------|---------------------------|------------------------------|\n",
        "| **Ruta encontrada**     | ✅ Completa y óptima        | ⚠️ Parcial – puede fallar     |\n",
        "| **Tiempo de ejecución** | Medio                      | Rápido                       |\n",
        "| **Memoria usada**       | Moderada                   | Baja                         |\n",
        "| **Calidad de solución** | Alta                       | Baja o incompleta            |\n",
        "| **Adaptabilidad**       | Alta (puede retroceder)    | Baja (sin backtracking)      |\n",
        "\n",
        "---\n",
        "\n",
        "## 🧠 Conclusión Final\n",
        "\n",
        "**¿Cuál es mejor en este caso?**  \n",
        "✅ El algoritmo **A\\*** es más robusto y confiable.  \n",
        "❌ **Hill Climbing** es rápido, pero no llega a la meta en este ejemplo.\n",
        "\n",
        "**Recomendación:**  \n",
        "Usar A\\* para entornos complejos. Hill Climbing solo si el entorno es pequeño o la rapidez es crítica.\n"
      ]
    }
  ],
  "metadata": {
    "colab": {
      "provenance": [],
      "include_colab_link": true
    },
    "language_info": {
      "name": "python"
    },
    "kernelspec": {
      "name": "python3",
      "display_name": "Python 3"
    }
  },
  "nbformat": 4,
  "nbformat_minor": 5
}